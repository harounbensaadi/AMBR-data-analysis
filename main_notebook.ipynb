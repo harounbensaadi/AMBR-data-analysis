{
 "cells": [
  {
   "cell_type": "markdown",
   "metadata": {},
   "source": [
    "<div class=\"alert alert-dark\" role=\"alert\">\n",
    "\n",
    "## Main Notebook (without functions)\n",
    "\n",
    "#### Data analysis of DDB_PD_138_AMBR and DDB_PD_139_AMBR experiments:\n",
    "Author: \n",
    "`Haroun Bensaadi`\n",
    "\n",
    "**Version: 23.01.2024**\n",
    "</div>\n",
    "\n"
   ]
  },
  {
   "cell_type": "code",
   "execution_count": 52,
   "metadata": {},
   "outputs": [],
   "source": [
    "%run functions.ipynb"
   ]
  },
  {
   "cell_type": "markdown",
   "metadata": {},
   "source": [
    "# Main Script"
   ]
  },
  {
   "cell_type": "code",
   "execution_count": 53,
   "metadata": {},
   "outputs": [],
   "source": [
    "%%capture\n",
    "\n",
    "createFolderInsideFiguresFolder()\n",
    "openXlsxFiles()\n",
    "createOrganizedDataPerReactor()"
   ]
  },
  {
   "cell_type": "markdown",
   "metadata": {},
   "source": [
    "**I. Metabolite Evolution Over Time**"
   ]
  },
  {
   "cell_type": "code",
   "execution_count": 54,
   "metadata": {},
   "outputs": [],
   "source": [
    "%%capture\n",
    "\n",
    "printAMBRtables()\n",
    "\n",
    "plotMetaboliteEvolutionAMBRdata()\n",
    "plotMetaboliteEvolutionMassPerTime()\n",
    "plotMetaboliteEvolutionQuantityPerTime()"
   ]
  },
  {
   "cell_type": "code",
   "execution_count": 55,
   "metadata": {},
   "outputs": [
    {
     "data": {
      "text/html": [
       "\n",
       "    <style>\n",
       "        .widget-label { font-size: 500%; vertical-align: middle; line-height: normal; }\n",
       "        .fa-folder { font-size: 250%; vertical-align: middle; margin-left: 0px; }\n",
       "        .fa-folder:before { color: #ffda73 !important; }\n",
       "    </style>\n",
       "    "
      ],
      "text/plain": [
       "<IPython.core.display.HTML object>"
      ]
     },
     "metadata": {},
     "output_type": "display_data"
    },
    {
     "data": {
      "application/vnd.jupyter.widget-view+json": {
       "model_id": "4fed4894fd104e589b38c7d70764f2f5",
       "version_major": 2,
       "version_minor": 0
      },
      "text/plain": [
       "VBox(children=(HTML(value=\"<strong style='font-size: 16px; color: rgba(20, 20, 20, 0.60);'>The generated image…"
      ]
     },
     "metadata": {},
     "output_type": "display_data"
    }
   ],
   "source": [
    "createAndDisplayFolderButtons([FOLDER_NAME_1, FOLDER_NAME_2, FOLDER_NAME_3])"
   ]
  },
  {
   "cell_type": "markdown",
   "metadata": {},
   "source": [
    "**II. Consumption and Production Rates**\n",
    "\n",
    "**III. Biomass-Specific Consumption and Production Rates**\n",
    "\n",
    "**IV. Substrate and Product Yields**"
   ]
  },
  {
   "cell_type": "code",
   "execution_count": 56,
   "metadata": {},
   "outputs": [],
   "source": [
    "%%capture\n",
    "calcuateRatesAndSubstrateAndProductYields()\n",
    "\n",
    "plotConsumptionAndProductionRatesIndividual()\n",
    "plotBiomassSpecificConsumptionAndProductionRatesIndividual()\n",
    "\n",
    "plotConsumptionAndProductionRatesSubplot()\n",
    "plotBiomassSpecificConsumptionAndProductionRatesSubplot()\n",
    "plotSubstrateAndProductYieldsSubplot()"
   ]
  },
  {
   "cell_type": "code",
   "execution_count": 6,
   "metadata": {},
   "outputs": [
    {
     "data": {
      "text/html": [
       "\n",
       "    <style>\n",
       "        .widget-label { font-size: 500%; vertical-align: middle; line-height: normal; }\n",
       "        .fa-folder { font-size: 250%; vertical-align: middle; margin-left: 0px; }\n",
       "        .fa-folder:before { color: #ffda73 !important; }\n",
       "    </style>\n",
       "    "
      ],
      "text/plain": [
       "<IPython.core.display.HTML object>"
      ]
     },
     "metadata": {},
     "output_type": "display_data"
    },
    {
     "data": {
      "application/vnd.jupyter.widget-view+json": {
       "model_id": "47cec9f1b0994fef8ec6f25e283180a4",
       "version_major": 2,
       "version_minor": 0
      },
      "text/plain": [
       "VBox(children=(HTML(value=\"<strong style='font-size: 16px; color: rgba(20, 20, 20, 0.60);'>The generated image…"
      ]
     },
     "metadata": {},
     "output_type": "display_data"
    }
   ],
   "source": [
    "createAndDisplayFolderButtons([FOLDER_NAME_4, FOLDER_NAME_5, FOLDER_NAME_6])"
   ]
  },
  {
   "cell_type": "code",
   "execution_count": 39,
   "metadata": {},
   "outputs": [
    {
     "data": {
      "text/plain": [
       "{}"
      ]
     },
     "execution_count": 39,
     "metadata": {},
     "output_type": "execute_result"
    }
   ],
   "source": [
    "rates_and_yields_dfs"
   ]
  },
  {
   "cell_type": "markdown",
   "metadata": {},
   "source": [
    "**V. Mass Balance of Main and TM Elements**"
   ]
  },
  {
   "cell_type": "code",
   "execution_count": 7,
   "metadata": {},
   "outputs": [],
   "source": [
    "%%capture\n",
    "\n",
    "setDataPerElementForAllElements()\n",
    "printElementQuantityPerSolutionTables()\n",
    "\n",
    "calculateMassBalanceMainElements()\n",
    "calculateMassBalanceTraceMetalElements()\n",
    "\n",
    "plotMassBalanceMainElements()\n",
    "plotMassBalanceMainElementsPercentageTriplicate()\n",
    "\n",
    "plotMassBalanceTraceMetalElements()\n",
    "plotMassBalanceTMElementsPercentageTriplicate()"
   ]
  },
  {
   "cell_type": "code",
   "execution_count": 8,
   "metadata": {},
   "outputs": [
    {
     "data": {
      "text/html": [
       "\n",
       "    <style>\n",
       "        .widget-label { font-size: 500%; vertical-align: middle; line-height: normal; }\n",
       "        .fa-folder { font-size: 250%; vertical-align: middle; margin-left: 0px; }\n",
       "        .fa-folder:before { color: #ffda73 !important; }\n",
       "    </style>\n",
       "    "
      ],
      "text/plain": [
       "<IPython.core.display.HTML object>"
      ]
     },
     "metadata": {},
     "output_type": "display_data"
    },
    {
     "data": {
      "application/vnd.jupyter.widget-view+json": {
       "model_id": "ac43a3e23a9f4a5da9ede3223a66a880",
       "version_major": 2,
       "version_minor": 0
      },
      "text/plain": [
       "VBox(children=(HTML(value=\"<strong style='font-size: 16px; color: rgba(20, 20, 20, 0.60);'>The generated image…"
      ]
     },
     "metadata": {},
     "output_type": "display_data"
    }
   ],
   "source": [
    "createAndDisplayFolderButtons([FOLDER_NAME_7, FOLDER_NAME_8, FOLDER_NAME_9, FOLDER_NAME_10])"
   ]
  },
  {
   "cell_type": "markdown",
   "metadata": {},
   "source": [
    "**VI. Elemental Growth Yields [g biomass / g Element]**"
   ]
  },
  {
   "cell_type": "code",
   "execution_count": 9,
   "metadata": {},
   "outputs": [],
   "source": [
    "%%capture\n",
    "getAndDsiplayFinalSamplesYields()\n",
    "calculateAndPlotElementalGrowthYieldSlopes()"
   ]
  },
  {
   "cell_type": "code",
   "execution_count": 10,
   "metadata": {},
   "outputs": [
    {
     "data": {
      "text/html": [
       "<div>\n",
       "<style scoped>\n",
       "    .dataframe tbody tr th:only-of-type {\n",
       "        vertical-align: middle;\n",
       "    }\n",
       "\n",
       "    .dataframe tbody tr th {\n",
       "        vertical-align: top;\n",
       "    }\n",
       "\n",
       "    .dataframe thead th {\n",
       "        text-align: right;\n",
       "    }\n",
       "</style>\n",
       "<table border=\"1\" class=\"dataframe\">\n",
       "  <thead>\n",
       "    <tr style=\"text-align: right;\">\n",
       "      <th></th>\n",
       "      <th>Reference</th>\n",
       "      <th>138_R01-02-03</th>\n",
       "      <th>138_R04-05-06</th>\n",
       "      <th>139_R06-07-08</th>\n",
       "      <th>139_R09-10-11</th>\n",
       "      <th>138_R01-02-03 [fed_batch]</th>\n",
       "      <th>138_R04-05-06 [fed_batch]</th>\n",
       "      <th>139_R06-07-08 [fed_batch]</th>\n",
       "      <th>139_R09-10-11 [fed_batch]</th>\n",
       "      <th>138_R01-02-03 (R^2)</th>\n",
       "      <th>138_R04-05-06 (R^2)</th>\n",
       "      <th>139_R06-07-08 (R^2)</th>\n",
       "      <th>139_R09-10-11 (R^2)</th>\n",
       "      <th>138_R01-02-03 (R^2) [fed_batch]</th>\n",
       "      <th>138_R04-05-06 (R^2) [fed_batch]</th>\n",
       "      <th>139_R06-07-08 (R^2) [fed_batch]</th>\n",
       "      <th>139_R09-10-11 (R^2) [fed_batch]</th>\n",
       "    </tr>\n",
       "  </thead>\n",
       "  <tbody>\n",
       "    <tr>\n",
       "      <th>Fe</th>\n",
       "      <td>200.00</td>\n",
       "      <td>1934.1</td>\n",
       "      <td>5145.0</td>\n",
       "      <td>1392.9</td>\n",
       "      <td>6623.0</td>\n",
       "      <td>1976.1</td>\n",
       "      <td>4472.5</td>\n",
       "      <td>3388.8</td>\n",
       "      <td>9209.1</td>\n",
       "      <td>0.81</td>\n",
       "      <td>0.96</td>\n",
       "      <td>0.63</td>\n",
       "      <td>0.88</td>\n",
       "      <td>0.79</td>\n",
       "      <td>0.97</td>\n",
       "      <td>0.85</td>\n",
       "      <td>0.96</td>\n",
       "    </tr>\n",
       "    <tr>\n",
       "      <th>Zn</th>\n",
       "      <td>10000.00</td>\n",
       "      <td>13219.4</td>\n",
       "      <td>65301.0</td>\n",
       "      <td>10891.2</td>\n",
       "      <td>95088.8</td>\n",
       "      <td>14468.5</td>\n",
       "      <td>49276.5</td>\n",
       "      <td>23959.8</td>\n",
       "      <td>57757.9</td>\n",
       "      <td>0.84</td>\n",
       "      <td>0.14</td>\n",
       "      <td>0.68</td>\n",
       "      <td>0.05</td>\n",
       "      <td>0.84</td>\n",
       "      <td>0.17</td>\n",
       "      <td>0.88</td>\n",
       "      <td>0.03</td>\n",
       "    </tr>\n",
       "    <tr>\n",
       "      <th>Mg</th>\n",
       "      <td>200.00</td>\n",
       "      <td>200.2</td>\n",
       "      <td>144.1</td>\n",
       "      <td>435.0</td>\n",
       "      <td>348.2</td>\n",
       "      <td>163.8</td>\n",
       "      <td>113.0</td>\n",
       "      <td>295.4</td>\n",
       "      <td>306.5</td>\n",
       "      <td>0.90</td>\n",
       "      <td>0.85</td>\n",
       "      <td>0.44</td>\n",
       "      <td>0.93</td>\n",
       "      <td>0.95</td>\n",
       "      <td>0.93</td>\n",
       "      <td>0.28</td>\n",
       "      <td>0.95</td>\n",
       "    </tr>\n",
       "    <tr>\n",
       "      <th>Mn</th>\n",
       "      <td>10000.00</td>\n",
       "      <td>108130.0</td>\n",
       "      <td>178386.2</td>\n",
       "      <td>118691.9</td>\n",
       "      <td>635895.8</td>\n",
       "      <td>120862.1</td>\n",
       "      <td>300701.6</td>\n",
       "      <td>221369.1</td>\n",
       "      <td>877043.2</td>\n",
       "      <td>0.94</td>\n",
       "      <td>0.05</td>\n",
       "      <td>0.65</td>\n",
       "      <td>0.64</td>\n",
       "      <td>0.95</td>\n",
       "      <td>0.24</td>\n",
       "      <td>0.61</td>\n",
       "      <td>0.61</td>\n",
       "    </tr>\n",
       "    <tr>\n",
       "      <th>Cu</th>\n",
       "      <td>100000.00</td>\n",
       "      <td>87248.9</td>\n",
       "      <td>97060.5</td>\n",
       "      <td>111384.9</td>\n",
       "      <td>175034.8</td>\n",
       "      <td>86713.9</td>\n",
       "      <td>71609.0</td>\n",
       "      <td>190185.6</td>\n",
       "      <td>128297.8</td>\n",
       "      <td>0.68</td>\n",
       "      <td>0.69</td>\n",
       "      <td>0.70</td>\n",
       "      <td>0.43</td>\n",
       "      <td>0.43</td>\n",
       "      <td>0.66</td>\n",
       "      <td>0.76</td>\n",
       "      <td>0.04</td>\n",
       "    </tr>\n",
       "    <tr>\n",
       "      <th>Co</th>\n",
       "      <td>100000.00</td>\n",
       "      <td>138147.9</td>\n",
       "      <td>257975.4</td>\n",
       "      <td>126238.3</td>\n",
       "      <td>392940.7</td>\n",
       "      <td>89604.0</td>\n",
       "      <td>251825.6</td>\n",
       "      <td>239518.6</td>\n",
       "      <td>628959.7</td>\n",
       "      <td>0.31</td>\n",
       "      <td>0.19</td>\n",
       "      <td>0.40</td>\n",
       "      <td>0.42</td>\n",
       "      <td>0.09</td>\n",
       "      <td>0.28</td>\n",
       "      <td>0.24</td>\n",
       "      <td>0.28</td>\n",
       "    </tr>\n",
       "    <tr>\n",
       "      <th>K</th>\n",
       "      <td>100.00</td>\n",
       "      <td>45.6</td>\n",
       "      <td>27.1</td>\n",
       "      <td>47.2</td>\n",
       "      <td>46.1</td>\n",
       "      <td>52.0</td>\n",
       "      <td>27.8</td>\n",
       "      <td>41.8</td>\n",
       "      <td>43.1</td>\n",
       "      <td>0.52</td>\n",
       "      <td>0.44</td>\n",
       "      <td>0.73</td>\n",
       "      <td>0.83</td>\n",
       "      <td>0.65</td>\n",
       "      <td>0.70</td>\n",
       "      <td>0.87</td>\n",
       "      <td>0.79</td>\n",
       "    </tr>\n",
       "    <tr>\n",
       "      <th>Mo</th>\n",
       "      <td>10000.00</td>\n",
       "      <td>83160.7</td>\n",
       "      <td>55256.8</td>\n",
       "      <td>83870.6</td>\n",
       "      <td>283020.5</td>\n",
       "      <td>69129.9</td>\n",
       "      <td>59733.4</td>\n",
       "      <td>192149.3</td>\n",
       "      <td>629407.8</td>\n",
       "      <td>0.45</td>\n",
       "      <td>0.13</td>\n",
       "      <td>0.57</td>\n",
       "      <td>0.63</td>\n",
       "      <td>0.25</td>\n",
       "      <td>0.30</td>\n",
       "      <td>0.65</td>\n",
       "      <td>1.00</td>\n",
       "    </tr>\n",
       "  </tbody>\n",
       "</table>\n",
       "</div>"
      ],
      "text/plain": [
       "    Reference 138_R01-02-03 138_R04-05-06 139_R06-07-08 139_R09-10-11  \\\n",
       "Fe     200.00        1934.1        5145.0        1392.9        6623.0   \n",
       "Zn   10000.00       13219.4       65301.0       10891.2       95088.8   \n",
       "Mg     200.00         200.2         144.1         435.0         348.2   \n",
       "Mn   10000.00      108130.0      178386.2      118691.9      635895.8   \n",
       "Cu  100000.00       87248.9       97060.5      111384.9      175034.8   \n",
       "Co  100000.00      138147.9      257975.4      126238.3      392940.7   \n",
       "K      100.00          45.6          27.1          47.2          46.1   \n",
       "Mo   10000.00       83160.7       55256.8       83870.6      283020.5   \n",
       "\n",
       "   138_R01-02-03 [fed_batch] 138_R04-05-06 [fed_batch]  \\\n",
       "Fe                    1976.1                    4472.5   \n",
       "Zn                   14468.5                   49276.5   \n",
       "Mg                     163.8                     113.0   \n",
       "Mn                  120862.1                  300701.6   \n",
       "Cu                   86713.9                   71609.0   \n",
       "Co                   89604.0                  251825.6   \n",
       "K                       52.0                      27.8   \n",
       "Mo                   69129.9                   59733.4   \n",
       "\n",
       "   139_R06-07-08 [fed_batch] 139_R09-10-11 [fed_batch]  138_R01-02-03 (R^2)  \\\n",
       "Fe                    3388.8                    9209.1                 0.81   \n",
       "Zn                   23959.8                   57757.9                 0.84   \n",
       "Mg                     295.4                     306.5                 0.90   \n",
       "Mn                  221369.1                  877043.2                 0.94   \n",
       "Cu                  190185.6                  128297.8                 0.68   \n",
       "Co                  239518.6                  628959.7                 0.31   \n",
       "K                       41.8                      43.1                 0.52   \n",
       "Mo                  192149.3                  629407.8                 0.45   \n",
       "\n",
       "    138_R04-05-06 (R^2)  139_R06-07-08 (R^2)  139_R09-10-11 (R^2)  \\\n",
       "Fe                 0.96                 0.63                 0.88   \n",
       "Zn                 0.14                 0.68                 0.05   \n",
       "Mg                 0.85                 0.44                 0.93   \n",
       "Mn                 0.05                 0.65                 0.64   \n",
       "Cu                 0.69                 0.70                 0.43   \n",
       "Co                 0.19                 0.40                 0.42   \n",
       "K                  0.44                 0.73                 0.83   \n",
       "Mo                 0.13                 0.57                 0.63   \n",
       "\n",
       "    138_R01-02-03 (R^2) [fed_batch]  138_R04-05-06 (R^2) [fed_batch]  \\\n",
       "Fe                             0.79                             0.97   \n",
       "Zn                             0.84                             0.17   \n",
       "Mg                             0.95                             0.93   \n",
       "Mn                             0.95                             0.24   \n",
       "Cu                             0.43                             0.66   \n",
       "Co                             0.09                             0.28   \n",
       "K                              0.65                             0.70   \n",
       "Mo                             0.25                             0.30   \n",
       "\n",
       "    139_R06-07-08 (R^2) [fed_batch]  139_R09-10-11 (R^2) [fed_batch]  \n",
       "Fe                             0.85                             0.96  \n",
       "Zn                             0.88                             0.03  \n",
       "Mg                             0.28                             0.95  \n",
       "Mn                             0.61                             0.61  \n",
       "Cu                             0.76                             0.04  \n",
       "Co                             0.24                             0.28  \n",
       "K                              0.87                             0.79  \n",
       "Mo                             0.65                             1.00  "
      ]
     },
     "metadata": {},
     "output_type": "display_data"
    }
   ],
   "source": [
    "showElementalGrowthYieldTable()"
   ]
  },
  {
   "cell_type": "code",
   "execution_count": 11,
   "metadata": {},
   "outputs": [],
   "source": [
    "%%capture\n",
    "plotMeasuredElementalGrowthYieldsAgainstReferenceValuesPerRSquaredIndividual()\n",
    "plotMeasuredElementalGrowthYieldsAgainstReferenceValuesPerRSquaredSUBPLOT()\n",
    "plotMeasuredElementalGrowthYieldsAgainstReferenceValuesHorizontalPlot()"
   ]
  },
  {
   "cell_type": "code",
   "execution_count": 12,
   "metadata": {},
   "outputs": [
    {
     "data": {
      "text/html": [
       "\n",
       "    <style>\n",
       "        .widget-label { font-size: 500%; vertical-align: middle; line-height: normal; }\n",
       "        .fa-folder { font-size: 250%; vertical-align: middle; margin-left: 0px; }\n",
       "        .fa-folder:before { color: #ffda73 !important; }\n",
       "    </style>\n",
       "    "
      ],
      "text/plain": [
       "<IPython.core.display.HTML object>"
      ]
     },
     "metadata": {},
     "output_type": "display_data"
    },
    {
     "data": {
      "application/vnd.jupyter.widget-view+json": {
       "model_id": "8fc70d21633649f9b12bee9d105ca8d4",
       "version_major": 2,
       "version_minor": 0
      },
      "text/plain": [
       "VBox(children=(HTML(value=\"<strong style='font-size: 16px; color: rgba(20, 20, 20, 0.60);'>The generated image…"
      ]
     },
     "metadata": {},
     "output_type": "display_data"
    }
   ],
   "source": [
    "createAndDisplayFolderButtons([FOLDER_NAME_11, FOLDER_NAME_12])"
   ]
  },
  {
   "cell_type": "markdown",
   "metadata": {},
   "source": [
    "**VII. Yields [µg Element / g biomass]**"
   ]
  },
  {
   "cell_type": "code",
   "execution_count": 13,
   "metadata": {},
   "outputs": [
    {
     "data": {
      "text/html": [
       "<div>\n",
       "<style scoped>\n",
       "    .dataframe tbody tr th:only-of-type {\n",
       "        vertical-align: middle;\n",
       "    }\n",
       "\n",
       "    .dataframe tbody tr th {\n",
       "        vertical-align: top;\n",
       "    }\n",
       "\n",
       "    .dataframe thead th {\n",
       "        text-align: right;\n",
       "    }\n",
       "</style>\n",
       "<table border=\"1\" class=\"dataframe\">\n",
       "  <thead>\n",
       "    <tr style=\"text-align: right;\">\n",
       "      <th></th>\n",
       "      <th>reactor name triplicate</th>\n",
       "      <th>elements</th>\n",
       "      <th>calc. avg. yield [µg/g]</th>\n",
       "      <th>calc. std. yield [µg/g]</th>\n",
       "      <th>meas. avg. yield [µg/g]</th>\n",
       "      <th>meas. std. yield [µg/g]</th>\n",
       "    </tr>\n",
       "  </thead>\n",
       "  <tbody>\n",
       "    <tr>\n",
       "      <th>0</th>\n",
       "      <td>138_R01-02-03</td>\n",
       "      <td>Fe</td>\n",
       "      <td>399.011289</td>\n",
       "      <td>61.738451</td>\n",
       "      <td>451.956772</td>\n",
       "      <td>24.657502</td>\n",
       "    </tr>\n",
       "    <tr>\n",
       "      <th>1</th>\n",
       "      <td>138_R04-05-06</td>\n",
       "      <td>Fe</td>\n",
       "      <td>218.495778</td>\n",
       "      <td>11.656859</td>\n",
       "      <td>318.120237</td>\n",
       "      <td>31.804003</td>\n",
       "    </tr>\n",
       "    <tr>\n",
       "      <th>2</th>\n",
       "      <td>139_R06-07-08</td>\n",
       "      <td>Fe</td>\n",
       "      <td>253.792061</td>\n",
       "      <td>71.386531</td>\n",
       "      <td>342.354126</td>\n",
       "      <td>57.533639</td>\n",
       "    </tr>\n",
       "    <tr>\n",
       "      <th>3</th>\n",
       "      <td>139_R09-10-11</td>\n",
       "      <td>Fe</td>\n",
       "      <td>104.749167</td>\n",
       "      <td>2.683384</td>\n",
       "      <td>205.003172</td>\n",
       "      <td>11.791514</td>\n",
       "    </tr>\n",
       "    <tr>\n",
       "      <th>4</th>\n",
       "      <td>138_R01-02-03</td>\n",
       "      <td>Zn</td>\n",
       "      <td>58.227065</td>\n",
       "      <td>8.443678</td>\n",
       "      <td>100.592580</td>\n",
       "      <td>7.486600</td>\n",
       "    </tr>\n",
       "    <tr>\n",
       "      <th>5</th>\n",
       "      <td>138_R04-05-06</td>\n",
       "      <td>Zn</td>\n",
       "      <td>3.269179</td>\n",
       "      <td>1.460896</td>\n",
       "      <td>12.185058</td>\n",
       "      <td>1.625224</td>\n",
       "    </tr>\n",
       "    <tr>\n",
       "      <th>6</th>\n",
       "      <td>139_R06-07-08</td>\n",
       "      <td>Zn</td>\n",
       "      <td>37.050699</td>\n",
       "      <td>9.160031</td>\n",
       "      <td>65.291717</td>\n",
       "      <td>8.866053</td>\n",
       "    </tr>\n",
       "    <tr>\n",
       "      <th>7</th>\n",
       "      <td>139_R09-10-11</td>\n",
       "      <td>Zn</td>\n",
       "      <td>0.483561</td>\n",
       "      <td>0.710573</td>\n",
       "      <td>5.870905</td>\n",
       "      <td>0.497330</td>\n",
       "    </tr>\n",
       "    <tr>\n",
       "      <th>8</th>\n",
       "      <td>138_R01-02-03</td>\n",
       "      <td>Mg</td>\n",
       "      <td>5782.922897</td>\n",
       "      <td>245.216414</td>\n",
       "      <td>5140.122364</td>\n",
       "      <td>109.324070</td>\n",
       "    </tr>\n",
       "    <tr>\n",
       "      <th>9</th>\n",
       "      <td>138_R04-05-06</td>\n",
       "      <td>Mg</td>\n",
       "      <td>8325.378207</td>\n",
       "      <td>249.572051</td>\n",
       "      <td>5611.394018</td>\n",
       "      <td>324.610420</td>\n",
       "    </tr>\n",
       "    <tr>\n",
       "      <th>10</th>\n",
       "      <td>139_R06-07-08</td>\n",
       "      <td>Mg</td>\n",
       "      <td>984.024540</td>\n",
       "      <td>897.386444</td>\n",
       "      <td>3714.761395</td>\n",
       "      <td>239.639164</td>\n",
       "    </tr>\n",
       "    <tr>\n",
       "      <th>11</th>\n",
       "      <td>139_R09-10-11</td>\n",
       "      <td>Mg</td>\n",
       "      <td>3102.595163</td>\n",
       "      <td>256.063838</td>\n",
       "      <td>4590.029607</td>\n",
       "      <td>99.130011</td>\n",
       "    </tr>\n",
       "    <tr>\n",
       "      <th>12</th>\n",
       "      <td>138_R01-02-03</td>\n",
       "      <td>Mn</td>\n",
       "      <td>7.896328</td>\n",
       "      <td>0.227726</td>\n",
       "      <td>10.316049</td>\n",
       "      <td>0.371924</td>\n",
       "    </tr>\n",
       "    <tr>\n",
       "      <th>13</th>\n",
       "      <td>138_R04-05-06</td>\n",
       "      <td>Mn</td>\n",
       "      <td>0.837318</td>\n",
       "      <td>0.501433</td>\n",
       "      <td>1.226680</td>\n",
       "      <td>0.157493</td>\n",
       "    </tr>\n",
       "    <tr>\n",
       "      <th>14</th>\n",
       "      <td>139_R06-07-08</td>\n",
       "      <td>Mn</td>\n",
       "      <td>2.758064</td>\n",
       "      <td>0.067646</td>\n",
       "      <td>6.634025</td>\n",
       "      <td>1.351975</td>\n",
       "    </tr>\n",
       "    <tr>\n",
       "      <th>15</th>\n",
       "      <td>139_R09-10-11</td>\n",
       "      <td>Mn</td>\n",
       "      <td>0.692006</td>\n",
       "      <td>0.055286</td>\n",
       "      <td>2.318785</td>\n",
       "      <td>0.132711</td>\n",
       "    </tr>\n",
       "    <tr>\n",
       "      <th>16</th>\n",
       "      <td>138_R01-02-03</td>\n",
       "      <td>Cu</td>\n",
       "      <td>5.035908</td>\n",
       "      <td>1.886252</td>\n",
       "      <td>7.261360</td>\n",
       "      <td>0.390944</td>\n",
       "    </tr>\n",
       "    <tr>\n",
       "      <th>17</th>\n",
       "      <td>138_R04-05-06</td>\n",
       "      <td>Cu</td>\n",
       "      <td>9.379727</td>\n",
       "      <td>1.989587</td>\n",
       "      <td>5.086304</td>\n",
       "      <td>0.244201</td>\n",
       "    </tr>\n",
       "    <tr>\n",
       "      <th>18</th>\n",
       "      <td>139_R06-07-08</td>\n",
       "      <td>Cu</td>\n",
       "      <td>4.004448</td>\n",
       "      <td>0.706250</td>\n",
       "      <td>6.863261</td>\n",
       "      <td>0.806844</td>\n",
       "    </tr>\n",
       "    <tr>\n",
       "      <th>19</th>\n",
       "      <td>139_R09-10-11</td>\n",
       "      <td>Cu</td>\n",
       "      <td>0.304053</td>\n",
       "      <td>0.957428</td>\n",
       "      <td>4.177260</td>\n",
       "      <td>0.407874</td>\n",
       "    </tr>\n",
       "    <tr>\n",
       "      <th>20</th>\n",
       "      <td>138_R01-02-03</td>\n",
       "      <td>Co</td>\n",
       "      <td>1.041767</td>\n",
       "      <td>1.115736</td>\n",
       "      <td>0.052212</td>\n",
       "      <td>0.073839</td>\n",
       "    </tr>\n",
       "    <tr>\n",
       "      <th>21</th>\n",
       "      <td>138_R04-05-06</td>\n",
       "      <td>Co</td>\n",
       "      <td>1.173662</td>\n",
       "      <td>0.591065</td>\n",
       "      <td>0.357018</td>\n",
       "      <td>0.046740</td>\n",
       "    </tr>\n",
       "    <tr>\n",
       "      <th>22</th>\n",
       "      <td>139_R06-07-08</td>\n",
       "      <td>Co</td>\n",
       "      <td>1.056504</td>\n",
       "      <td>1.210256</td>\n",
       "      <td>0.132391</td>\n",
       "      <td>0.011163</td>\n",
       "    </tr>\n",
       "    <tr>\n",
       "      <th>23</th>\n",
       "      <td>139_R09-10-11</td>\n",
       "      <td>Co</td>\n",
       "      <td>0.439660</td>\n",
       "      <td>0.186581</td>\n",
       "      <td>0.456080</td>\n",
       "      <td>0.062718</td>\n",
       "    </tr>\n",
       "    <tr>\n",
       "      <th>24</th>\n",
       "      <td>138_R01-02-03</td>\n",
       "      <td>K</td>\n",
       "      <td>12576.559032</td>\n",
       "      <td>3714.290143</td>\n",
       "      <td>10930.634463</td>\n",
       "      <td>307.493743</td>\n",
       "    </tr>\n",
       "    <tr>\n",
       "      <th>25</th>\n",
       "      <td>138_R04-05-06</td>\n",
       "      <td>K</td>\n",
       "      <td>24958.812492</td>\n",
       "      <td>3316.972726</td>\n",
       "      <td>9203.873759</td>\n",
       "      <td>759.752309</td>\n",
       "    </tr>\n",
       "    <tr>\n",
       "      <th>26</th>\n",
       "      <td>139_R06-07-08</td>\n",
       "      <td>K</td>\n",
       "      <td>20854.391675</td>\n",
       "      <td>3312.879543</td>\n",
       "      <td>14148.720211</td>\n",
       "      <td>2569.468673</td>\n",
       "    </tr>\n",
       "    <tr>\n",
       "      <th>27</th>\n",
       "      <td>139_R09-10-11</td>\n",
       "      <td>K</td>\n",
       "      <td>18251.417681</td>\n",
       "      <td>2712.528720</td>\n",
       "      <td>14011.411136</td>\n",
       "      <td>463.808248</td>\n",
       "    </tr>\n",
       "    <tr>\n",
       "      <th>28</th>\n",
       "      <td>138_R01-02-03</td>\n",
       "      <td>Mo</td>\n",
       "      <td>3.623430</td>\n",
       "      <td>1.913841</td>\n",
       "      <td>5.320388</td>\n",
       "      <td>0.375852</td>\n",
       "    </tr>\n",
       "    <tr>\n",
       "      <th>29</th>\n",
       "      <td>138_R04-05-06</td>\n",
       "      <td>Mo</td>\n",
       "      <td>5.052109</td>\n",
       "      <td>3.340787</td>\n",
       "      <td>3.812440</td>\n",
       "      <td>0.196390</td>\n",
       "    </tr>\n",
       "    <tr>\n",
       "      <th>30</th>\n",
       "      <td>139_R06-07-08</td>\n",
       "      <td>Mo</td>\n",
       "      <td>3.441018</td>\n",
       "      <td>1.611336</td>\n",
       "      <td>5.534101</td>\n",
       "      <td>0.596927</td>\n",
       "    </tr>\n",
       "    <tr>\n",
       "      <th>31</th>\n",
       "      <td>139_R09-10-11</td>\n",
       "      <td>Mo</td>\n",
       "      <td>1.587735</td>\n",
       "      <td>0.006459</td>\n",
       "      <td>5.438678</td>\n",
       "      <td>0.331774</td>\n",
       "    </tr>\n",
       "  </tbody>\n",
       "</table>\n",
       "</div>"
      ],
      "text/plain": [
       "   reactor name triplicate elements  calc. avg. yield [µg/g]  \\\n",
       "0            138_R01-02-03       Fe               399.011289   \n",
       "1            138_R04-05-06       Fe               218.495778   \n",
       "2            139_R06-07-08       Fe               253.792061   \n",
       "3            139_R09-10-11       Fe               104.749167   \n",
       "4            138_R01-02-03       Zn                58.227065   \n",
       "5            138_R04-05-06       Zn                 3.269179   \n",
       "6            139_R06-07-08       Zn                37.050699   \n",
       "7            139_R09-10-11       Zn                 0.483561   \n",
       "8            138_R01-02-03       Mg              5782.922897   \n",
       "9            138_R04-05-06       Mg              8325.378207   \n",
       "10           139_R06-07-08       Mg               984.024540   \n",
       "11           139_R09-10-11       Mg              3102.595163   \n",
       "12           138_R01-02-03       Mn                 7.896328   \n",
       "13           138_R04-05-06       Mn                 0.837318   \n",
       "14           139_R06-07-08       Mn                 2.758064   \n",
       "15           139_R09-10-11       Mn                 0.692006   \n",
       "16           138_R01-02-03       Cu                 5.035908   \n",
       "17           138_R04-05-06       Cu                 9.379727   \n",
       "18           139_R06-07-08       Cu                 4.004448   \n",
       "19           139_R09-10-11       Cu                 0.304053   \n",
       "20           138_R01-02-03       Co                 1.041767   \n",
       "21           138_R04-05-06       Co                 1.173662   \n",
       "22           139_R06-07-08       Co                 1.056504   \n",
       "23           139_R09-10-11       Co                 0.439660   \n",
       "24           138_R01-02-03        K             12576.559032   \n",
       "25           138_R04-05-06        K             24958.812492   \n",
       "26           139_R06-07-08        K             20854.391675   \n",
       "27           139_R09-10-11        K             18251.417681   \n",
       "28           138_R01-02-03       Mo                 3.623430   \n",
       "29           138_R04-05-06       Mo                 5.052109   \n",
       "30           139_R06-07-08       Mo                 3.441018   \n",
       "31           139_R09-10-11       Mo                 1.587735   \n",
       "\n",
       "    calc. std. yield [µg/g]  meas. avg. yield [µg/g]  meas. std. yield [µg/g]  \n",
       "0                 61.738451               451.956772                24.657502  \n",
       "1                 11.656859               318.120237                31.804003  \n",
       "2                 71.386531               342.354126                57.533639  \n",
       "3                  2.683384               205.003172                11.791514  \n",
       "4                  8.443678               100.592580                 7.486600  \n",
       "5                  1.460896                12.185058                 1.625224  \n",
       "6                  9.160031                65.291717                 8.866053  \n",
       "7                  0.710573                 5.870905                 0.497330  \n",
       "8                245.216414              5140.122364               109.324070  \n",
       "9                249.572051              5611.394018               324.610420  \n",
       "10               897.386444              3714.761395               239.639164  \n",
       "11               256.063838              4590.029607                99.130011  \n",
       "12                 0.227726                10.316049                 0.371924  \n",
       "13                 0.501433                 1.226680                 0.157493  \n",
       "14                 0.067646                 6.634025                 1.351975  \n",
       "15                 0.055286                 2.318785                 0.132711  \n",
       "16                 1.886252                 7.261360                 0.390944  \n",
       "17                 1.989587                 5.086304                 0.244201  \n",
       "18                 0.706250                 6.863261                 0.806844  \n",
       "19                 0.957428                 4.177260                 0.407874  \n",
       "20                 1.115736                 0.052212                 0.073839  \n",
       "21                 0.591065                 0.357018                 0.046740  \n",
       "22                 1.210256                 0.132391                 0.011163  \n",
       "23                 0.186581                 0.456080                 0.062718  \n",
       "24              3714.290143             10930.634463               307.493743  \n",
       "25              3316.972726              9203.873759               759.752309  \n",
       "26              3312.879543             14148.720211              2569.468673  \n",
       "27              2712.528720             14011.411136               463.808248  \n",
       "28                 1.913841                 5.320388                 0.375852  \n",
       "29                 3.340787                 3.812440                 0.196390  \n",
       "30                 1.611336                 5.534101                 0.596927  \n",
       "31                 0.006459                 5.438678                 0.331774  "
      ]
     },
     "metadata": {},
     "output_type": "display_data"
    }
   ],
   "source": [
    "getCalculatedAndMeasuredYields()"
   ]
  },
  {
   "cell_type": "code",
   "execution_count": 14,
   "metadata": {},
   "outputs": [],
   "source": [
    "%%capture\n",
    "\n",
    "plotYieldSlopes()\n",
    "plotYieldsWithErrorsBarPlotIndividual()\n",
    "plotYieldsWithErrorsBarPlotSubplot()"
   ]
  },
  {
   "cell_type": "code",
   "execution_count": 15,
   "metadata": {},
   "outputs": [
    {
     "data": {
      "text/html": [
       "\n",
       "    <style>\n",
       "        .widget-label { font-size: 500%; vertical-align: middle; line-height: normal; }\n",
       "        .fa-folder { font-size: 250%; vertical-align: middle; margin-left: 0px; }\n",
       "        .fa-folder:before { color: #ffda73 !important; }\n",
       "    </style>\n",
       "    "
      ],
      "text/plain": [
       "<IPython.core.display.HTML object>"
      ]
     },
     "metadata": {},
     "output_type": "display_data"
    },
    {
     "data": {
      "application/vnd.jupyter.widget-view+json": {
       "model_id": "54b7b3f7a00c45818bc56e26bb0a95aa",
       "version_major": 2,
       "version_minor": 0
      },
      "text/plain": [
       "VBox(children=(HTML(value=\"<strong style='font-size: 16px; color: rgba(20, 20, 20, 0.60);'>The generated image…"
      ]
     },
     "metadata": {},
     "output_type": "display_data"
    }
   ],
   "source": [
    "createAndDisplayFolderButtons([FOLDER_NAME_13, FOLDER_NAME_14])"
   ]
  },
  {
   "cell_type": "code",
   "execution_count": 16,
   "metadata": {},
   "outputs": [],
   "source": [
    "%%capture\n",
    "\n",
    "plotYieldsPerStrainAndMediumTypesSubplotAllElements()\n",
    "plotYieldsPerStrainAndMediumTypesScatterPlotPerElement()\n",
    "plotYieldsPerStrainAndMediumTypesSubplotPerElement()\n",
    "\n",
    "plotYieldsPerStrainTypeSubplotAllElements()\n",
    "plotYieldsPerStrainTypeScatterPlotPerElement()\n",
    "plotYieldsPerStrainTypeSubplotPerElement()"
   ]
  },
  {
   "cell_type": "code",
   "execution_count": 17,
   "metadata": {},
   "outputs": [
    {
     "data": {
      "text/html": [
       "\n",
       "    <style>\n",
       "        .widget-label { font-size: 500%; vertical-align: middle; line-height: normal; }\n",
       "        .fa-folder { font-size: 250%; vertical-align: middle; margin-left: 0px; }\n",
       "        .fa-folder:before { color: #ffda73 !important; }\n",
       "    </style>\n",
       "    "
      ],
      "text/plain": [
       "<IPython.core.display.HTML object>"
      ]
     },
     "metadata": {},
     "output_type": "display_data"
    },
    {
     "data": {
      "application/vnd.jupyter.widget-view+json": {
       "model_id": "37fdfc25f8334598b7d8670979b260e6",
       "version_major": 2,
       "version_minor": 0
      },
      "text/plain": [
       "VBox(children=(HTML(value=\"<strong style='font-size: 16px; color: rgba(20, 20, 20, 0.60);'>The generated image…"
      ]
     },
     "metadata": {},
     "output_type": "display_data"
    }
   ],
   "source": [
    "createAndDisplayFolderButtons([FOLDER_NAME_15, FOLDER_NAME_16])"
   ]
  },
  {
   "cell_type": "code",
   "execution_count": 18,
   "metadata": {},
   "outputs": [],
   "source": [
    "%%capture\n",
    "\n",
    "plotMeasuredYieldsHorizontal()\n",
    "plotCalculatedYieldsHorizontal()\n",
    "\n",
    "calculateChangeInPercentageOfYield()\n",
    "getReshapedPercentageData()\n",
    "plotChangeInYieldPerElementHeatmap()"
   ]
  },
  {
   "cell_type": "code",
   "execution_count": 19,
   "metadata": {},
   "outputs": [
    {
     "data": {
      "text/html": [
       "\n",
       "    <style>\n",
       "        .widget-label { font-size: 500%; vertical-align: middle; line-height: normal; }\n",
       "        .fa-folder { font-size: 250%; vertical-align: middle; margin-left: 0px; }\n",
       "        .fa-folder:before { color: #ffda73 !important; }\n",
       "    </style>\n",
       "    "
      ],
      "text/plain": [
       "<IPython.core.display.HTML object>"
      ]
     },
     "metadata": {},
     "output_type": "display_data"
    },
    {
     "data": {
      "application/vnd.jupyter.widget-view+json": {
       "model_id": "c5d00464d3f34b65864a6da52adea5e9",
       "version_major": 2,
       "version_minor": 0
      },
      "text/plain": [
       "VBox(children=(HTML(value=\"<strong style='font-size: 16px; color: rgba(20, 20, 20, 0.60);'>The generated image…"
      ]
     },
     "metadata": {},
     "output_type": "display_data"
    }
   ],
   "source": [
    "createAndDisplayFolderButtons([FOLDER_NAME_17])"
   ]
  }
 ],
 "metadata": {
  "kernelspec": {
   "display_name": "Python 3",
   "language": "python",
   "name": "python3"
  },
  "language_info": {
   "codemirror_mode": {
    "name": "ipython",
    "version": 3
   },
   "file_extension": ".py",
   "mimetype": "text/x-python",
   "name": "python",
   "nbconvert_exporter": "python",
   "pygments_lexer": "ipython3",
   "version": "3.12.0"
  }
 },
 "nbformat": 4,
 "nbformat_minor": 2
}
